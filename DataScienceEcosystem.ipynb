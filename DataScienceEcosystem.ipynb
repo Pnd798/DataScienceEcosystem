{
 "cells": [
  {
   "cell_type": "markdown",
   "id": "edf79aa6-201d-4856-b15f-3f84bc01cf9d",
   "metadata": {},
   "source": [
    "# Data Science Tools and Ecosystem"
   ]
  },
  {
   "cell_type": "markdown",
   "id": "bc90d368-d2a2-4209-b732-a629266128df",
   "metadata": {},
   "source": [
    "In this Notebook, Data Science Tools and Ecosystems are summarized. "
   ]
  },
  {
   "cell_type": "markdown",
   "id": "514befe9-7978-461c-96e1-7607a6a5e400",
   "metadata": {},
   "source": [
    "Some of the popular languages Data Scientist use are:\n",
    "1. Python\n",
    "2. R\n",
    "3. Ruby"
   ]
  },
  {
   "cell_type": "markdown",
   "id": "745fa368-1f33-4011-85b2-5706f610e240",
   "metadata": {},
   "source": [
    "Some of the commonly used libraries used by Data Scientis are:\n",
    "1. Pandas\n",
    "2. Matplotlib\n",
    "3. Numpy\n",
    "4. Pytorch\n",
    "5. ggplot2\n",
    "6. Seaborn"
   ]
  },
  {
   "cell_type": "markdown",
   "id": "3134eacd-262b-4455-8aaa-0d41176646cd",
   "metadata": {},
   "source": [
    "|Data Science Tools|\n",
    "-------------------\n",
    "|Jupyter Notebooks!\n",
    "|R Studio|\n",
    "|Jupyter Labs|\n",
    "|Spyder|"
   ]
  },
  {
   "cell_type": "markdown",
   "id": "3b29c131-b60b-416e-befb-e150aaada273",
   "metadata": {},
   "source": [
    "### Below are a few examples of arithmetic expressions using Python:"
   ]
  },
  {
   "cell_type": "code",
   "execution_count": 4,
   "id": "f210b9ad-757f-4e8c-bd5c-bd36dc9b89c0",
   "metadata": {
    "scrolled": true
   },
   "outputs": [
    {
     "data": {
      "text/plain": [
       "17"
      ]
     },
     "execution_count": 4,
     "metadata": {},
     "output_type": "execute_result"
    }
   ],
   "source": [
    "# This is a simple arithmetic expression to multiply the add integers.\n",
    "(3*4)+5"
   ]
  },
  {
   "cell_type": "code",
   "execution_count": 5,
   "id": "ad0256ed-4361-44cd-b57a-da6d8cce7637",
   "metadata": {},
   "outputs": [
    {
     "data": {
      "text/plain": [
       "3.3333333333333335"
      ]
     },
     "execution_count": 5,
     "metadata": {},
     "output_type": "execute_result"
    }
   ],
   "source": [
    "#This will convert 200 minutes to hours by dividing by 60\n",
    "200/60"
   ]
  },
  {
   "cell_type": "markdown",
   "id": "24cfdf01-a1b1-441e-82c4-2c18fb2ffba7",
   "metadata": {},
   "source": [
    "**Objectives:**\n",
    "* List popular languages for data science\n",
    "* List popular libraries for data science\n",
    "* List open source tools for data science\n",
    "* Demonstrate iteracy using markdown"
   ]
  },
  {
   "cell_type": "markdown",
   "id": "09d500f0-0beb-4d1c-ae26-8703c7ee3399",
   "metadata": {},
   "source": [
    "## Author\n",
    "David Fernandez Figueroa"
   ]
  },
  {
   "cell_type": "code",
   "execution_count": null,
   "id": "50af78e8-ac03-47bc-8f43-a7dd91364f55",
   "metadata": {},
   "outputs": [],
   "source": []
  }
 ],
 "metadata": {
  "kernelspec": {
   "display_name": "Python 3 (ipykernel)",
   "language": "python",
   "name": "python3"
  },
  "language_info": {
   "codemirror_mode": {
    "name": "ipython",
    "version": 3
   },
   "file_extension": ".py",
   "mimetype": "text/x-python",
   "name": "python",
   "nbconvert_exporter": "python",
   "pygments_lexer": "ipython3",
   "version": "3.12.4"
  }
 },
 "nbformat": 4,
 "nbformat_minor": 5
}
